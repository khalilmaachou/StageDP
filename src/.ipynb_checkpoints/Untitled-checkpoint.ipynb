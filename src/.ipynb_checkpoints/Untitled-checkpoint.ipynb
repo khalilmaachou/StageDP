{
 "cells": [
  {
   "cell_type": "code",
   "execution_count": 1,
   "metadata": {},
   "outputs": [
    {
     "name": "stdout",
     "output_type": "stream",
     "text": [
      "/usr/local/lib/python3.6/dist-packages/nltk/draw/__init__.py:15: UserWarning: nltk.draw package not loaded (please install Tkinter library).\n",
      "  warnings.warn(\"nltk.draw package not loaded \" \"(please install Tkinter library).\")\n",
      "Traceback (most recent call last):\n",
      "  File \"main.py\", line 11, in <module>\n",
      "    from data_helper import DataHelper\n",
      "  File \"/users/iris/kmaachou/STAGE-M2/StageDP/src/data_helper.py\", line 12, in <module>\n",
      "    from models.tree import RstTree\n",
      "  File \"/users/iris/kmaachou/STAGE-M2/StageDP/src/models/tree.py\", line 12, in <module>\n",
      "    from nltk.draw import TreeWidget\n",
      "ImportError: cannot import name 'TreeWidget'\n"
     ]
    }
   ],
   "source": [
    "!python3 main.py --eval --eval_dir EVAL_DIR"
   ]
  },
  {
   "cell_type": "code",
   "execution_count": null,
   "metadata": {},
   "outputs": [],
   "source": []
  },
  {
   "cell_type": "code",
   "execution_count": null,
   "metadata": {},
   "outputs": [],
   "source": []
  }
 ],
 "metadata": {
  "kernelspec": {
   "display_name": "stageDP",
   "language": "python",
   "name": "stagedp"
  },
  "language_info": {
   "codemirror_mode": {
    "name": "ipython",
    "version": 3
   },
   "file_extension": ".py",
   "mimetype": "text/x-python",
   "name": "python",
   "nbconvert_exporter": "python",
   "pygments_lexer": "ipython3",
   "version": "3.7.0"
  }
 },
 "nbformat": 4,
 "nbformat_minor": 4
}
