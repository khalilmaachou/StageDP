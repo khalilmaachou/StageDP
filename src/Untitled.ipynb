{
 "cells": [
  {
   "cell_type": "code",
   "execution_count": 2,
   "metadata": {},
   "outputs": [
    {
     "name": "stdout",
     "output_type": "stream",
     "text": [
      "Load Brown clusters for creating features ...\n",
      "Load data helper ...\n",
      "Traceback (most recent call last):\n",
      "  File \"main.py\", line 65, in <module>\n",
      "    train_model(data_helper)\n",
      "  File \"main.py\", line 26, in train_model\n",
      "    action_fvs, action_labels = list(zip(*data_helper.gen_action_train_data()))\n",
      "ValueError: not enough values to unpack (expected 2, got 0)\n"
     ]
    }
   ],
   "source": [
    "!python3 main.py --train --train_dir EVAL_DIR"
   ]
  },
  {
   "cell_type": "code",
   "execution_count": 4,
   "metadata": {},
   "outputs": [
    {
     "name": "stdout",
     "output_type": "stream",
     "text": [
      "Join the separated edus in *.edus file into *.text file with a single line...\n",
      "Parse the *.text files...\n",
      "../data/samples/file1\n",
      "../data/samples/file1.conll\n",
      "../data/samples/file1.dis\n",
      "../data/samples/file1.edus\n",
      "../data/samples/file1.merge\n",
      "../data/samples/file1.text\n",
      "../run_corenlp.sh: line 21: /usr/bin/java: No such file or directory\n",
      "../data/samples/file1.text.xml\n",
      "Merge parsed files to generate *.merge file...\n",
      "Processing file: ../data/samples/file1.text.xml\n"
     ]
    }
   ],
   "source": [
    "!python3 preprocess.py --data_dir ../data/samples --corenlp_dir ../"
   ]
  },
  {
   "cell_type": "code",
   "execution_count": null,
   "metadata": {},
   "outputs": [],
   "source": []
  }
 ],
 "metadata": {
  "kernelspec": {
   "display_name": "stageDP",
   "language": "python",
   "name": "stagedp"
  },
  "language_info": {
   "codemirror_mode": {
    "name": "ipython",
    "version": 3
   },
   "file_extension": ".py",
   "mimetype": "text/x-python",
   "name": "python",
   "nbconvert_exporter": "python",
   "pygments_lexer": "ipython3",
   "version": "3.7.0"
  }
 },
 "nbformat": 4,
 "nbformat_minor": 4
}
